{
 "cells": [
  {
   "cell_type": "code",
   "execution_count": 14,
   "id": "96608a89-3026-4569-9d4d-0b91b1547cee",
   "metadata": {},
   "outputs": [],
   "source": [
    "import tkinter as tk\n",
    "import random "
   ]
  },
  {
   "cell_type": "code",
   "execution_count": 24,
   "id": "463b729f-ac9d-44ed-bfef-0bae1d4eb8af",
   "metadata": {},
   "outputs": [],
   "source": [
    "def play(user_played):\n",
    "    global YOU_SCORE,CPU_SCORE\n",
    "    cpu_played=random.choice([\"r\",\"p\",\"s\"])\n",
    "    if user_played== cpu_played:\n",
    "        return\n",
    "    elif(user_played==\"r\" and cpu_played==\"s\") or (user_played==\"s\" and cpu_played==\"p\") or(user_played==\"p\" and cpu_played==\"r\"):\n",
    "        #user wins\n",
    "        YOU_SCORE+=1\n",
    "        your_score_label.config(text=f\"YOU{YOU_SCORE}\")\n",
    "    else:\n",
    "        #cpu wins\n",
    "        CPU_SCORE+=1\n",
    "        cpu_score_label.config(text=f\"CPU{CPU_SCORE}\")\n",
    "        \n",
    "user_played=\"s\"\n",
    "cpu_played=random.choice([\"r\",\"p\",\"s\"])"
   ]
  },
  {
   "cell_type": "code",
   "execution_count": null,
   "id": "9b83e0ed-e789-4009-9bf3-61744428acd8",
   "metadata": {},
   "outputs": [],
   "source": [
    "YOU_SCORE=0\n",
    "CPU_SCORE=0\n",
    "window=tk.Tk()\n",
    "window.geometry(\"400x400\")\n",
    "root=tk.Frame(window)\n",
    "your_score_frame=tk.Frame(root, bg='blue')\n",
    "your_score_label=tk.Label(your_score_frame, text=\"YOU 0\", font=28)\n",
    "\n",
    "cpu_score_frame=tk.Frame(root, bg='red')\n",
    "cpu_score_label=tk.Label(cpu_score_frame, text=\"CPU 0\", font=28)\n",
    "\n",
    "button_frame=tk.Frame(root)\n",
    "r_btn=tk.Button(button_frame,text=\"Rock\", font=28,command=lambda:play(\"r\"))\n",
    "r_btn.pack(padx=5, pady=5)\n",
    "\n",
    "p_btn=tk.Button(button_frame,text=\"Paper\", font=28,command=lambda:play(\"p\"))\n",
    "p_btn.pack(padx=5, pady=5)\n",
    "\n",
    "s_btn=tk.Button(button_frame,text=\"Scissors\", font=28,command=lambda:play(\"s\"))\n",
    "s_btn.pack(padx=5, pady=5)\n",
    "\n",
    "\n",
    "your_score_label.pack(padx=10, pady=10)\n",
    "your_score_frame.grid(row=0, column=0)\n",
    "\n",
    "cpu_score_label.pack(padx=10, pady=10)\n",
    "cpu_score_frame.grid(row=0, column=1)\n",
    "\n",
    "button_frame.grid(row=1, column=0,columnspan=2)\n",
    "\n",
    "\n",
    "root.pack()\n",
    "\n",
    "\n",
    "window.mainloop()"
   ]
  },
  {
   "cell_type": "code",
   "execution_count": null,
   "id": "0693dfda-34e2-4507-b464-e8668a88fd3b",
   "metadata": {},
   "outputs": [],
   "source": []
  },
  {
   "cell_type": "code",
   "execution_count": null,
   "id": "dfb3ed33-60ef-459b-8eb0-87fcb0cab547",
   "metadata": {},
   "outputs": [],
   "source": []
  },
  {
   "cell_type": "code",
   "execution_count": null,
   "id": "377a1eac-3d45-4ab4-9470-3f2a7959ef1d",
   "metadata": {},
   "outputs": [],
   "source": []
  },
  {
   "cell_type": "code",
   "execution_count": null,
   "id": "59d2fda9-84bf-443d-84ae-b9dc54517dad",
   "metadata": {},
   "outputs": [],
   "source": []
  },
  {
   "cell_type": "code",
   "execution_count": null,
   "id": "5c187b4c-af70-4be4-9bf1-66179362d650",
   "metadata": {},
   "outputs": [],
   "source": []
  }
 ],
 "metadata": {
  "kernelspec": {
   "display_name": "Python 3 (ipykernel)",
   "language": "python",
   "name": "python3"
  },
  "language_info": {
   "codemirror_mode": {
    "name": "ipython",
    "version": 3
   },
   "file_extension": ".py",
   "mimetype": "text/x-python",
   "name": "python",
   "nbconvert_exporter": "python",
   "pygments_lexer": "ipython3",
   "version": "3.11.7"
  }
 },
 "nbformat": 4,
 "nbformat_minor": 5
}
